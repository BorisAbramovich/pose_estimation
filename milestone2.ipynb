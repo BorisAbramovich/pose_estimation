{
  "nbformat": 4,
  "nbformat_minor": 0,
  "metadata": {
    "colab": {
      "name": "milestone2.ipynb",
      "provenance": [],
      "collapsed_sections": [],
      "authorship_tag": "ABX9TyNxpsc8j5XUmW+xQjL66ate",
      "include_colab_link": true
    },
    "kernelspec": {
      "name": "python3",
      "display_name": "Python 3"
    },
    "accelerator": "GPU"
  },
  "cells": [
    {
      "cell_type": "markdown",
      "metadata": {
        "id": "view-in-github",
        "colab_type": "text"
      },
      "source": [
        "<a href=\"https://colab.research.google.com/github/BorisAbramovich/pose_estimation/blob/master/milestone2.ipynb\" target=\"_parent\"><img src=\"https://colab.research.google.com/assets/colab-badge.svg\" alt=\"Open In Colab\"/></a>"
      ]
    },
    {
      "cell_type": "code",
      "metadata": {
        "id": "39Q9hu09hGB1",
        "colab_type": "code",
        "colab": {}
      },
      "source": [
        "from scipy.io import loadmat\n",
        "from PIL import Image, ImageDraw\n",
        "import numpy as np\n",
        "import functools"
      ],
      "execution_count": 0,
      "outputs": []
    },
    {
      "cell_type": "code",
      "metadata": {
        "id": "5XIFCRZYfsGD",
        "colab_type": "code",
        "outputId": "2ea2a8c4-d9a9-4af2-bd36-a6fb3af96ab6",
        "colab": {
          "base_uri": "https://localhost:8080/",
          "height": 413
        }
      },
      "source": [
        "!wget http://ufldl.stanford.edu/housenumbers/train_32x32.mat\n",
        "!wget http://ufldl.stanford.edu/housenumbers/test_32x32.mat\n",
        "train = loadmat('train_32x32.mat')\n",
        "test = loadmat('test_32x32.mat')"
      ],
      "execution_count": 2,
      "outputs": [
        {
          "output_type": "stream",
          "text": [
            "--2020-04-28 15:59:27--  http://ufldl.stanford.edu/housenumbers/train_32x32.mat\n",
            "Resolving ufldl.stanford.edu (ufldl.stanford.edu)... 171.64.68.10\n",
            "Connecting to ufldl.stanford.edu (ufldl.stanford.edu)|171.64.68.10|:80... connected.\n",
            "HTTP request sent, awaiting response... 200 OK\n",
            "Length: 182040794 (174M) [text/plain]\n",
            "Saving to: ‘train_32x32.mat’\n",
            "\n",
            "train_32x32.mat     100%[===================>] 173.61M  19.9MB/s    in 12s     \n",
            "\n",
            "2020-04-28 15:59:39 (15.0 MB/s) - ‘train_32x32.mat’ saved [182040794/182040794]\n",
            "\n",
            "--2020-04-28 15:59:40--  http://ufldl.stanford.edu/housenumbers/test_32x32.mat\n",
            "Resolving ufldl.stanford.edu (ufldl.stanford.edu)... 171.64.68.10\n",
            "Connecting to ufldl.stanford.edu (ufldl.stanford.edu)|171.64.68.10|:80... connected.\n",
            "HTTP request sent, awaiting response... 200 OK\n",
            "Length: 64275384 (61M) [text/plain]\n",
            "Saving to: ‘test_32x32.mat’\n",
            "\n",
            "test_32x32.mat      100%[===================>]  61.30M  16.1MB/s    in 6.2s    \n",
            "\n",
            "2020-04-28 15:59:47 (9.84 MB/s) - ‘test_32x32.mat’ saved [64275384/64275384]\n",
            "\n"
          ],
          "name": "stdout"
        }
      ]
    },
    {
      "cell_type": "code",
      "metadata": {
        "id": "ZvELpwo7iPTh",
        "colab_type": "code",
        "outputId": "476a07f2-ee75-43ca-f7b6-4b16de357e61",
        "colab": {
          "base_uri": "https://localhost:8080/",
          "height": 67
        }
      },
      "source": [
        "train['y'][train['y']==10]=0\n",
        "test['y'][test['y']==10]=0\n",
        "#for i in range(300):\n",
        "#  im=train['X'][:,:,:,i]\n",
        "#  img = Image.fromarray(im, 'RGB')\n",
        "#  display(img)\n",
        "#  print(train['y'][i])\n",
        "i=1000\n",
        "image = train['X'][:,:,:,i]\n",
        "display(Image.fromarray(image))\n",
        "print(train['y'][i])"
      ],
      "execution_count": 3,
      "outputs": [
        {
          "output_type": "display_data",
          "data": {
            "image/png": "[encoded data removed]",
            "text/plain": [
              "<PIL.Image.Image image mode=RGB size=32x32 at 0x7F45B6E17390>"
            ]
          },
          "metadata": {
            "tags": []
          }
        },
        {
          "output_type": "stream",
          "text": [
            "[1]\n"
          ],
          "name": "stdout"
        }
      ]
    },
    {
      "cell_type": "code",
      "metadata": {
        "id": "935YS0P7I-QT",
        "colab_type": "code",
        "colab": {}
      },
      "source": [
        "import torchvision\n",
        "import torch\n",
        "from torch.utils.data import DataLoader\n",
        "import torchvision.transforms as transforms\n",
        "\n",
        "def argmax(iterable):\n",
        "    return max(enumerate(iterable), key=lambda x: x[1])[0]\n",
        "\n",
        "transform = transforms.Compose([\n",
        "    transforms.ToTensor(), transforms.Normalize((0.5, 0.5, 0.5), (0.5, 0.5, 0.5))\n",
        "])\n",
        "SVHN_dataset=torchvision.datasets.SVHN('.', split='train', transform=transform)\n",
        "data_loader = DataLoader(SVHN_dataset, batch_size=512,\n",
        "                        shuffle=True, num_workers=4)\n",
        "SVHN_test_dataset=torchvision.datasets.SVHN('.', split='test', transform=transform)\n",
        "test_data_loader = DataLoader(SVHN_test_dataset, batch_size=512,\n",
        "                        shuffle=True, num_workers=4)"
      ],
      "execution_count": 0,
      "outputs": []
    },
    {
      "cell_type": "code",
      "metadata": {
        "id": "XIi7-GYZK1hL",
        "colab_type": "code",
        "outputId": "f73adf90-2be7-4c57-9ec9-4e3080b3d409",
        "colab": {
          "base_uri": "https://localhost:8080/",
          "height": 233
        }
      },
      "source": [
        "import torch.nn as nn\n",
        "import torch.nn.functional as F\n",
        "\n",
        "class Net(nn.Module):\n",
        "    def __init__(self):\n",
        "        super(Net, self).__init__()\n",
        "        #convolution, kernel_size=5, channels=6, stride=1, padding=2\n",
        "        self.conv1 = nn.Conv2d(3, 6, 5, stride=1, padding=2)\n",
        "        #batch-normalization\n",
        "        self.norm1 = nn.BatchNorm2d(6)\n",
        "        #Max-pool, kernel_size=2, stride=2\n",
        "        self.pool1 = nn.MaxPool2d(2, 2)\n",
        "        #convolution, kernel_size=3, channels=12, stride=1, padding=1\n",
        "        self.conv2 = nn.Conv2d(6, 12, 3, stride=1, padding=1)\n",
        "        #batch-normalization\n",
        "        self.norm2 = nn.BatchNorm2d(12)\n",
        "        #Max-pool, kernel_size=2, stride=2\n",
        "        self.pool2 = nn.MaxPool2d(2, 2)\n",
        "        #convolution, kernel_size=3, channels=24, stride=1, padding=1\n",
        "        self.conv3 = nn.Conv2d(12, 24, 3, stride=1, padding=1)\n",
        "        #batch-normalization\n",
        "        self.norm3 = nn.BatchNorm2d(24)\n",
        "        #Max-pool, kernel_size=2, stride=2\n",
        "        self.pool3 = nn.MaxPool2d(2, 2)\n",
        "        #fully connected layer, output_size=10\n",
        "        self.fc1 = nn.Linear(4 * 4 * 24, 10)\n",
        "\n",
        "    def forward(self, x):\n",
        "        x = self.pool1(F.relu(self.norm1(self.conv1(x))))\n",
        "        #print(\"1\",x.shape)\n",
        "        x = self.pool2(F.relu(self.norm2(self.conv2(x))))\n",
        "        #print('2', x.shape)\n",
        "        x = self.pool3(F.relu(self.norm3(self.conv3(x))))\n",
        "        #print('3', x.shape)\n",
        "        x = x.view(-1, 24 * 4 * 4)\n",
        "        x = self.fc1(x)\n",
        "        #print('4', x.shape)\n",
        "        return x\n",
        "\n",
        "\n",
        "net = Net()\n",
        "net"
      ],
      "execution_count": 12,
      "outputs": [
        {
          "output_type": "execute_result",
          "data": {
            "text/plain": [
              "Net(\n",
              "  (conv1): Conv2d(3, 6, kernel_size=(5, 5), stride=(1, 1), padding=(2, 2))\n",
              "  (norm1): BatchNorm2d(6, eps=1e-05, momentum=0.1, affine=True, track_running_stats=True)\n",
              "  (pool1): MaxPool2d(kernel_size=2, stride=2, padding=0, dilation=1, ceil_mode=False)\n",
              "  (conv2): Conv2d(6, 12, kernel_size=(3, 3), stride=(1, 1), padding=(1, 1))\n",
              "  (norm2): BatchNorm2d(12, eps=1e-05, momentum=0.1, affine=True, track_running_stats=True)\n",
              "  (pool2): MaxPool2d(kernel_size=2, stride=2, padding=0, dilation=1, ceil_mode=False)\n",
              "  (conv3): Conv2d(12, 24, kernel_size=(3, 3), stride=(1, 1), padding=(1, 1))\n",
              "  (norm3): BatchNorm2d(24, eps=1e-05, momentum=0.1, affine=True, track_running_stats=True)\n",
              "  (pool3): MaxPool2d(kernel_size=2, stride=2, padding=0, dilation=1, ceil_mode=False)\n",
              "  (fc1): Linear(in_features=384, out_features=10, bias=True)\n",
              ")"
            ]
          },
          "metadata": {
            "tags": []
          },
          "execution_count": 12
        }
      ]
    },
    {
      "cell_type": "code",
      "metadata": {
        "id": "vAgUGbSXSzWv",
        "colab_type": "code",
        "colab": {}
      },
      "source": [
        "def get_accuracy(model, dataloader):\n",
        "\n",
        "    model.eval()\n",
        "    # TODO: calculate accuracy\n",
        "    num_true = 0\n",
        "    num_total = 0\n",
        "    for data_batch, labels_batch in data_loader:\n",
        "      res = model(data_batch)\n",
        "      inferred = res.max(-1)[1]  #argmax torch style\n",
        "      target = labels_batch\n",
        "      num_true  += sum(map(lambda a,b: 1 if a==b else 0, inferred, target))\n",
        "      num_total += len(target)\n",
        "    \n",
        "    accuracy = num_true/num_total\n",
        "    model.train()\n",
        "    return accuracy"
      ],
      "execution_count": 0,
      "outputs": []
    },
    {
      "cell_type": "code",
      "metadata": {
        "id": "KDSu_OOtcRrC",
        "colab_type": "code",
        "colab": {}
      },
      "source": [
        "import matplotlib\n",
        "matplotlib.use('Agg')\n",
        "import matplotlib.pyplot as plt\n",
        "pilTrans = transforms.ToPILImage()\n"
      ],
      "execution_count": 0,
      "outputs": []
    },
    {
      "cell_type": "code",
      "metadata": {
        "id": "9nGULxliXW-0",
        "colab_type": "code",
        "outputId": "ea068c5a-189c-4558-c876-f6840193ad6f",
        "colab": {
          "base_uri": "https://localhost:8080/",
          "height": 103
        }
      },
      "source": [
        "dataiter = iter(data_loader)\n",
        "images, labels = dataiter.next()\n",
        "# show images\n",
        "images[0].shape\n",
        "pilImg = pilTrans(images[3])\n",
        "display(pilImg)\n",
        "print(labels[3])\n",
        "# print labels\n",
        "#print(' '.join('%5s' % classes[labels[j]] for j in range(4)))\n",
        "#get_accuracy(net, data_loader)"
      ],
      "execution_count": 144,
      "outputs": [
        {
          "output_type": "display_data",
          "data": {
            "image/png": "[encoded data removed]",
            "text/plain": [
              "<PIL.Image.Image image mode=RGB size=32x32 at 0x7F7BC2780898>"
            ]
          },
          "metadata": {
            "tags": []
          }
        },
        {
          "output_type": "stream",
          "text": [
            "tensor(0)\n",
            "0.06728367255006347\n"
          ],
          "name": "stdout"
        },
        {
          "output_type": "execute_result",
          "data": {
            "text/plain": [
              "0.06728367255006347"
            ]
          },
          "metadata": {
            "tags": []
          },
          "execution_count": 144
        }
      ]
    },
    {
      "cell_type": "markdown",
      "metadata": {
        "id": "LnQdn5hR9k8g",
        "colab_type": "text"
      },
      "source": [
        "# Training"
      ]
    },
    {
      "cell_type": "code",
      "metadata": {
        "id": "l_2jhc8Dev4Z",
        "colab_type": "code",
        "colab": {}
      },
      "source": [
        "import torch.optim as optim\n",
        "\n",
        "criterion = nn.CrossEntropyLoss()\n",
        "#optimizer = optim.SGD(net.parameters(), lr=0.001, momentum=0.9)\n",
        "optimizer = optim.Adam(net.parameters(), lr=0.001, betas=(0.9, 0.999), eps=1e-08, weight_decay=0, amsgrad=False)"
      ],
      "execution_count": 0,
      "outputs": []
    },
    {
      "cell_type": "code",
      "metadata": {
        "id": "Dz5lShNEe9qo",
        "colab_type": "code",
        "colab": {
          "base_uri": "https://localhost:8080/",
          "height": 1000
        },
        "outputId": "19a9ab04-d2eb-4f71-a86c-a5639819d2fe"
      },
      "source": [
        "for epoch in range(20):  # loop over the dataset multiple times\n",
        "\n",
        "    running_loss = 0.0\n",
        "    for i, data in enumerate(data_loader, 0):\n",
        "        # get the inputs; data is a list of [inputs, labels]\n",
        "        inputs, labels = data\n",
        "\n",
        "        # zero the parameter gradients\n",
        "        optimizer.zero_grad()\n",
        "\n",
        "        # forward + backward + optimize\n",
        "        outputs = net(inputs)\n",
        "        loss = criterion(outputs, labels)\n",
        "        loss.backward()\n",
        "        optimizer.step()\n",
        "\n",
        "        # print statistics\n",
        "        running_loss += loss.item()\n",
        "        if i % 50 == 49:    # print every 2000 mini-batches\n",
        "            print('[%d, %5d] loss: %.3f' %\n",
        "                  (epoch + 1, i + 1, running_loss / 50))\n",
        "            running_loss = 0.0\n",
        "#        if i % 200 == 199:\n",
        "    print('acuracy:',get_accuracy(net, test_data_loader))\n",
        "print('Finished Training')"
      ],
      "execution_count": 29,
      "outputs": [
        {
          "output_type": "stream",
          "text": [
            "[1,    50] loss: 0.297\n",
            "[1,   100] loss: 0.277\n",
            "acuracy: 0.9030672836725501\n",
            "[2,    50] loss: 0.276\n",
            "[2,   100] loss: 0.276\n",
            "acuracy: 0.9166905551687893\n",
            "[3,    50] loss: 0.268\n",
            "[3,   100] loss: 0.279\n",
            "acuracy: 0.9227923611395498\n",
            "[4,    50] loss: 0.264\n",
            "[4,   100] loss: 0.273\n",
            "acuracy: 0.9224510968235118\n",
            "[5,    50] loss: 0.265\n",
            "[5,   100] loss: 0.272\n",
            "acuracy: 0.9225193496867193\n",
            "[6,    50] loss: 0.259\n",
            "[6,   100] loss: 0.265\n",
            "acuracy: 0.9237615517970978\n",
            "[7,    50] loss: 0.267\n",
            "[7,   100] loss: 0.270\n",
            "acuracy: 0.9213317498669069\n",
            "[8,    50] loss: 0.266\n",
            "[8,   100] loss: 0.265\n",
            "acuracy: 0.9219460256357754\n",
            "[9,    50] loss: 0.270\n",
            "[9,   100] loss: 0.260\n",
            "acuracy: 0.9239663103867207\n",
            "[10,    50] loss: 0.271\n",
            "acuracy: 0.9228742645753989\n",
            "[11,    50] loss: 0.267\n",
            "[11,   100] loss: 0.276\n",
            "acuracy: 0.9232974323272861\n",
            "[12,    50] loss: 0.260\n",
            "[12,   100] loss: 0.269\n",
            "acuracy: 0.9201304994744529\n",
            "[13,    50] loss: 0.261\n",
            "[13,   100] loss: 0.271\n",
            "acuracy: 0.914329006101806\n",
            "[14,    50] loss: 0.268\n",
            "[14,   100] loss: 0.264\n",
            "acuracy: 0.9219733267810585\n",
            "[15,    50] loss: 0.269\n",
            "[15,   100] loss: 0.251\n",
            "acuracy: 0.9255770779584204\n",
            "[16,    50] loss: 0.272\n",
            "[16,   100] loss: 0.262\n",
            "acuracy: 0.9287440108112536\n",
            "[17,    50] loss: 0.265\n",
            "[17,   100] loss: 0.269\n",
            "acuracy: 0.9261231008640812\n",
            "[18,    50] loss: 0.250\n",
            "[18,   100] loss: 0.265\n",
            "acuracy: 0.9265735697612515\n",
            "[19,    50] loss: 0.252\n",
            "[19,   100] loss: 0.263\n",
            "acuracy: 0.9224101451055872\n",
            "[20,    50] loss: 0.262\n",
            "[20,   100] loss: 0.259\n",
            "acuracy: 0.9249628021895518\n",
            "Finished Training\n"
          ],
          "name": "stdout"
        }
      ]
    },
    {
      "cell_type": "markdown",
      "metadata": {
        "id": "vL7Hnki09W54",
        "colab_type": "text"
      },
      "source": [
        "# Inference"
      ]
    },
    {
      "cell_type": "code",
      "metadata": {
        "id": "ElOliibn-wNx",
        "colab_type": "code",
        "colab": {}
      },
      "source": [
        "def infer(image):\n",
        "  return int(net(image[None,:,:]).max(-1)[1])"
      ],
      "execution_count": 0,
      "outputs": []
    },
    {
      "cell_type": "code",
      "metadata": {
        "id": "Hsf2I8lg4JpL",
        "colab_type": "code",
        "colab": {
          "base_uri": "https://localhost:8080/",
          "height": 517
        },
        "outputId": "45484bcc-df29-4ab1-d76f-826da51809a9"
      },
      "source": [
        "import random\n",
        "SVHN_test_dataset=torchvision.datasets.SVHN('.', split='test', transform=transforms.ToTensor())\n",
        "\n",
        "for i in range(10):\n",
        "  idx = random.randint(0, len(SVHN_test_dataset))\n",
        "  image, target = SVHN_test_dataset[idx]\n",
        "  print('result:%d target:%d'%(infer(image), target))\n",
        "  display(pilTrans(image))"
      ],
      "execution_count": 72,
      "outputs": [
        {
          "output_type": "stream",
          "text": [
            "result:2 target:2\n"
          ],
          "name": "stdout"
        },
        {
          "output_type": "display_data",
          "data": {
            "image/png": "[encoded data removed]",
            "text/plain": [
              "<PIL.Image.Image image mode=RGB size=32x32 at 0x7F4567095630>"
            ]
          },
          "metadata": {
            "tags": []
          }
        },
        {
          "output_type": "stream",
          "text": [
            "result:5 target:5\n"
          ],
          "name": "stdout"
        },
        {
          "output_type": "display_data",
          "data": {
            "image/png": "[encoded data removed]",
            "text/plain": [
              "<PIL.Image.Image image mode=RGB size=32x32 at 0x7F4567095630>"
            ]
          },
          "metadata": {
            "tags": []
          }
        },
        {
          "output_type": "stream",
          "text": [
            "result:5 target:5\n"
          ],
          "name": "stdout"
        },
        {
          "output_type": "display_data",
          "data": {
            "image/png": "[encoded data removed]",
            "text/plain": [
              "<PIL.Image.Image image mode=RGB size=32x32 at 0x7F4567095630>"
            ]
          },
          "metadata": {
            "tags": []
          }
        },
        {
          "output_type": "stream",
          "text": [
            "result:6 target:6\n"
          ],
          "name": "stdout"
        },
        {
          "output_type": "display_data",
          "data": {
            "image/png": "[encoded data removed]",
            "text/plain": [
              "<PIL.Image.Image image mode=RGB size=32x32 at 0x7F4567095630>"
            ]
          },
          "metadata": {
            "tags": []
          }
        },
        {
          "output_type": "stream",
          "text": [
            "result:4 target:4\n"
          ],
          "name": "stdout"
        },
        {
          "output_type": "display_data",
          "data": {
            "image/png": "[encoded data removed]",
            "text/plain": [
              "<PIL.Image.Image image mode=RGB size=32x32 at 0x7F4567095630>"
            ]
          },
          "metadata": {
            "tags": []
          }
        },
        {
          "output_type": "stream",
          "text": [
            "result:2 target:4\n"
          ],
          "name": "stdout"
        },
        {
          "output_type": "display_data",
          "data": {
            "image/png": "[encoded data removed]",
            "text/plain": [
              "<PIL.Image.Image image mode=RGB size=32x32 at 0x7F4567095630>"
            ]
          },
          "metadata": {
            "tags": []
          }
        },
        {
          "output_type": "stream",
          "text": [
            "result:5 target:5\n"
          ],
          "name": "stdout"
        },
        {
          "output_type": "display_data",
          "data": {
            "image/png": "[encoded data removed]",
            "text/plain": [
              "<PIL.Image.Image image mode=RGB size=32x32 at 0x7F4567095630>"
            ]
          },
          "metadata": {
            "tags": []
          }
        },
        {
          "output_type": "stream",
          "text": [
            "result:2 target:2\n"
          ],
          "name": "stdout"
        },
        {
          "output_type": "display_data",
          "data": {
            "image/png": "[encoded data removed]",
            "text/plain": [
              "<PIL.Image.Image image mode=RGB size=32x32 at 0x7F4567095630>"
            ]
          },
          "metadata": {
            "tags": []
          }
        },
        {
          "output_type": "stream",
          "text": [
            "result:4 target:3\n"
          ],
          "name": "stdout"
        },
        {
          "output_type": "display_data",
          "data": {
            "image/png": "[encoded data removed]",
            "text/plain": [
              "<PIL.Image.Image image mode=RGB size=32x32 at 0x7F4567095630>"
            ]
          },
          "metadata": {
            "tags": []
          }
        },
        {
          "output_type": "stream",
          "text": [
            "result:2 target:2\n"
          ],
          "name": "stdout"
        },
        {
          "output_type": "display_data",
          "data": {
            "image/png": "[encoded data removed]",
            "text/plain": [
              "<PIL.Image.Image image mode=RGB size=32x32 at 0x7F4567095630>"
            ]
          },
          "metadata": {
            "tags": []
          }
        }
      ]
    }
  ]
}